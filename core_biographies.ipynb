{
 "cells": [
  {
   "cell_type": "code",
   "execution_count": 8,
   "id": "05485549-6ace-4de2-b46f-36887ea53ba9",
   "metadata": {},
   "outputs": [],
   "source": [
    "import pandas as pd"
   ]
  },
  {
   "cell_type": "code",
   "execution_count": 11,
   "id": "968ad02a-ac54-4d85-8f98-1d1a5558e111",
   "metadata": {},
   "outputs": [
    {
     "data": {
      "text/html": [
       "<div>\n",
       "<style scoped>\n",
       "    .dataframe tbody tr th:only-of-type {\n",
       "        vertical-align: middle;\n",
       "    }\n",
       "\n",
       "    .dataframe tbody tr th {\n",
       "        vertical-align: top;\n",
       "    }\n",
       "\n",
       "    .dataframe thead th {\n",
       "        text-align: right;\n",
       "    }\n",
       "</style>\n",
       "<table border=\"1\" class=\"dataframe\">\n",
       "  <thead>\n",
       "    <tr style=\"text-align: right;\">\n",
       "      <th></th>\n",
       "      <th>Name</th>\n",
       "      <th>Date of birth</th>\n",
       "      <th>Date of death</th>\n",
       "      <th>Age</th>\n",
       "      <th>Country of birth</th>\n",
       "      <th>Country of death</th>\n",
       "      <th>Occupation</th>\n",
       "    </tr>\n",
       "  </thead>\n",
       "  <tbody>\n",
       "    <tr>\n",
       "      <th>0</th>\n",
       "      <td>Aeschylus</td>\n",
       "      <td>c. 525 BC</td>\n",
       "      <td>c. 456 BC</td>\n",
       "      <td>69</td>\n",
       "      <td>Greece</td>\n",
       "      <td>Italy</td>\n",
       "      <td>Writer</td>\n",
       "    </tr>\n",
       "    <tr>\n",
       "      <th>1</th>\n",
       "      <td>Akbar</td>\n",
       "      <td>October 24, 1542</td>\n",
       "      <td>October 12, 1605</td>\n",
       "      <td>62</td>\n",
       "      <td>Pakistan</td>\n",
       "      <td>India</td>\n",
       "      <td>Politician</td>\n",
       "    </tr>\n",
       "    <tr>\n",
       "      <th>2</th>\n",
       "      <td>Muhammad ibn Musa al-Khwarizmi</td>\n",
       "      <td>780</td>\n",
       "      <td>850</td>\n",
       "      <td>70</td>\n",
       "      <td>Uzbekistan</td>\n",
       "      <td>Iraq</td>\n",
       "      <td>Scientist</td>\n",
       "    </tr>\n",
       "    <tr>\n",
       "      <th>3</th>\n",
       "      <td>Alexander the Great</td>\n",
       "      <td>July 20, 356 BC</td>\n",
       "      <td>June 10, 323 BC</td>\n",
       "      <td>32</td>\n",
       "      <td>Greece</td>\n",
       "      <td>Iraq</td>\n",
       "      <td>Politician</td>\n",
       "    </tr>\n",
       "    <tr>\n",
       "      <th>4</th>\n",
       "      <td>Muhammad Ali</td>\n",
       "      <td>January 17, 1942</td>\n",
       "      <td>June 3, 2016</td>\n",
       "      <td>74</td>\n",
       "      <td>United States</td>\n",
       "      <td>United States</td>\n",
       "      <td>Athlete</td>\n",
       "    </tr>\n",
       "  </tbody>\n",
       "</table>\n",
       "</div>"
      ],
      "text/plain": [
       "                             Name     Date of birth     Date of death  Age  \\\n",
       "0                       Aeschylus         c. 525 BC         c. 456 BC   69   \n",
       "1                           Akbar  October 24, 1542  October 12, 1605   62   \n",
       "2  Muhammad ibn Musa al-Khwarizmi               780               850   70   \n",
       "3             Alexander the Great   July 20, 356 BC   June 10, 323 BC   32   \n",
       "4                    Muhammad Ali  January 17, 1942      June 3, 2016   74   \n",
       "\n",
       "  Country of birth Country of death  Occupation  \n",
       "0           Greece            Italy      Writer  \n",
       "1         Pakistan            India  Politician  \n",
       "2       Uzbekistan             Iraq   Scientist  \n",
       "3           Greece             Iraq  Politician  \n",
       "4    United States    United States     Athlete  "
      ]
     },
     "execution_count": 11,
     "metadata": {},
     "output_type": "execute_result"
    }
   ],
   "source": [
    "df = pd.read_csv('core_biographies.csv')\n",
    "df.head()"
   ]
  },
  {
   "cell_type": "code",
   "execution_count": 14,
   "id": "0ab4b6ba-f5ac-4a14-85a3-134a2d83074b",
   "metadata": {},
   "outputs": [
    {
     "data": {
      "text/plain": [
       "Occupation\n",
       "Politician     58\n",
       "Scientist      44\n",
       "Writer         36\n",
       "Artist         25\n",
       "Philosopher    19\n",
       "Theologian     13\n",
       "Athlete         6\n",
       "dtype: int64"
      ]
     },
     "execution_count": 14,
     "metadata": {},
     "output_type": "execute_result"
    }
   ],
   "source": [
    "df.groupby(['Occupation']).size().sort_values(ascending=False)"
   ]
  },
  {
   "cell_type": "code",
   "execution_count": null,
   "id": "59013979-5f65-4225-bb57-94e40c12875a",
   "metadata": {},
   "outputs": [],
   "source": []
  }
 ],
 "metadata": {
  "kernelspec": {
   "display_name": "Python 3",
   "language": "python",
   "name": "python3"
  },
  "language_info": {
   "codemirror_mode": {
    "name": "ipython",
    "version": 3
   },
   "file_extension": ".py",
   "mimetype": "text/x-python",
   "name": "python",
   "nbconvert_exporter": "python",
   "pygments_lexer": "ipython3",
   "version": "3.8.8"
  }
 },
 "nbformat": 4,
 "nbformat_minor": 5
}
